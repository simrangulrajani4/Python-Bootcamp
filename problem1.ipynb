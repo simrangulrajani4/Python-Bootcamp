{
  "nbformat": 4,
  "nbformat_minor": 0,
  "metadata": {
    "kernelspec": {
      "display_name": "Python 3",
      "language": "python",
      "name": "python3"
    },
    "language_info": {
      "codemirror_mode": {
        "name": "ipython",
        "version": 3
      },
      "file_extension": ".py",
      "mimetype": "text/x-python",
      "name": "python",
      "nbconvert_exporter": "python",
      "pygments_lexer": "ipython3",
      "version": "3.7.4"
    },
    "colab": {
      "name": "problem1.ipynb",
      "provenance": []
    }
  },
  "cells": [
    {
      "cell_type": "markdown",
      "metadata": {
        "id": "zEW2rbvWoLYc"
      },
      "source": [
        "Before you turn this problem in, make sure everything runs as expected. First, **restart the kernel** (in the menubar, select Kernel$\\rightarrow$Restart) and then **run all cells** (in the menubar, select Cell$\\rightarrow$Run All).\n",
        "\n",
        "Make sure you fill in any place that says `YOUR CODE HERE` or \"YOUR ANSWER HERE\", as well as your name and collaborators below:"
      ]
    },
    {
      "cell_type": "code",
      "metadata": {
        "id": "vHR3K1dIoLYf"
      },
      "source": [
        "NAME = \"\"\n",
        "COLLABORATORS = \"\""
      ],
      "execution_count": null,
      "outputs": []
    },
    {
      "cell_type": "markdown",
      "metadata": {
        "id": "gPD2j-ZtoLYg"
      },
      "source": [
        "---"
      ]
    },
    {
      "cell_type": "markdown",
      "metadata": {
        "deletable": false,
        "editable": false,
        "nbgrader": {
          "cell_type": "markdown",
          "checksum": "d926833d711460351a9174b385a66d1e",
          "grade": false,
          "grade_id": "jupyter",
          "locked": true,
          "schema_version": 3,
          "solution": false
        },
        "id": "lXx_FXJioLYg"
      },
      "source": [
        "# Python for Data Science Bootcamp\n",
        "## Assignment 1\n",
        "\n",
        "NOTE: This assignment has 4 problems.  Please write your code in the designated portion of the autograded answer cell.\n",
        "\n",
        "For this problem set, we'll be using the Jupyter notebook and nbgrader:\n",
        "\n",
        "![](https://github.com/Python-for-Data-Science-Bootcamp/a1-simrangulrajani4/blob/master/jupyter.png?raw=1)\n",
        "\n",
        "©2020 Luis Morales. All rights reserved. "
      ]
    },
    {
      "cell_type": "markdown",
      "metadata": {
        "id": "Pgt9dDKroLYh"
      },
      "source": [
        "## Problem 1 (1 point)\n",
        "\n",
        "Write a function that test whether the input number is a positive odd integer. Don't worry about the incorrect input."
      ]
    },
    {
      "cell_type": "code",
      "metadata": {
        "deletable": false,
        "nbgrader": {
          "cell_type": "code",
          "checksum": "5e2244f30769014d5bce404fdd68fa92",
          "grade": false,
          "grade_id": "myfunction",
          "locked": false,
          "schema_version": 3,
          "solution": true,
          "task": false
        },
        "id": "oHjIHCuyoLYk"
      },
      "source": [
        "def myfunction(n):\n",
        "    \"\"\"test whether the input number is a positive odd integer. Don't worry about the incorrect input.\n",
        "    \"\"\"\n",
        "    # YOUR CODE HERE\n",
        "    if n>0 and n % 2 != 0:\n",
        "      return True\n",
        "    else: \n",
        "      return False\n",
        "\n",
        "    raise NotImplementedError()"
      ],
      "execution_count": 264,
      "outputs": []
    },
    {
      "cell_type": "code",
      "metadata": {
        "deletable": false,
        "editable": false,
        "nbgrader": {
          "cell_type": "code",
          "checksum": "8e002fccc4f5da9626d8c22db2f12186",
          "grade": true,
          "grade_id": "evalmyfunction",
          "locked": true,
          "points": 1,
          "schema_version": 3,
          "solution": false,
          "task": false
        },
        "id": "Ea_nJIhnoLYm"
      },
      "source": [
        "\"\"\"\n",
        "this is testing!\n",
        "Check that positive_odd_int function returns the correct output for several inputs\"\"\"\n",
        "assert myfunction(10) == False\n",
        "assert myfunction(11) == True\n",
        "assert myfunction(-21) == False"
      ],
      "execution_count": 265,
      "outputs": []
    },
    {
      "cell_type": "markdown",
      "metadata": {
        "deletable": false,
        "editable": false,
        "nbgrader": {
          "cell_type": "markdown",
          "checksum": "0b2f4d60c27081eb165a2666b6060eec",
          "grade": false,
          "grade_id": "cell-7b7b8b2b7e456082",
          "locked": true,
          "schema_version": 3,
          "solution": false,
          "task": false
        },
        "id": "fjkNiDZQoLYm"
      },
      "source": [
        "## Problem 2 (1 point)\n",
        "\n",
        "Write a function that returns a list of numbers, such that $x_i=i^3$, for $1\\leq i \\leq n$. Make sure it handles the case where $n<1$ by raising a `ValueError`."
      ]
    },
    {
      "cell_type": "code",
      "metadata": {
        "deletable": false,
        "nbgrader": {
          "cell_type": "code",
          "checksum": "f2625f7851b5ca99aa55f9c5df8dd3ae",
          "grade": false,
          "grade_id": "cubics",
          "locked": false,
          "schema_version": 3,
          "solution": true
        },
        "id": "9V-BGLqQoLYn"
      },
      "source": [
        "def cubics(n):\n",
        "    \"\"\"Compute the cubics of numbers from 1 to n, such that the \n",
        "    ith element of the returned list equals i^3.\n",
        "    \n",
        "    \"\"\"\n",
        "    # YOUR CODE HERE\n",
        "    if n<1: \n",
        "        raise ValueError('Not a valid number')\n",
        "    cubes=[]\n",
        "    \n",
        "    for i in range(1,n+1):\n",
        "        cubes +=[i*i*i]\n",
        "  \n",
        "    return cubes\n",
        "    raise NotImplementedError()"
      ],
      "execution_count": 203,
      "outputs": []
    },
    {
      "cell_type": "markdown",
      "metadata": {
        "deletable": false,
        "editable": false,
        "nbgrader": {
          "cell_type": "markdown",
          "checksum": "49b78083c3135f2d7fa4d9521f80ca9b",
          "grade": false,
          "grade_id": "cell-2b9d954ba78a6d36",
          "locked": true,
          "schema_version": 3,
          "solution": false
        },
        "id": "PBawU5SwoLYn"
      },
      "source": [
        "Your function should print `[1, 8, 27, 64, 125, 216, 343, 512, 729, 1000]` for $n=10$. Check that it does:"
      ]
    },
    {
      "cell_type": "code",
      "metadata": {
        "deletable": false,
        "editable": false,
        "nbgrader": {
          "cell_type": "code",
          "checksum": "9b7bd656aac100348dc57c6c1e8dc35e",
          "grade": false,
          "grade_id": "cell-32a68f9da9b462ef",
          "locked": true,
          "schema_version": 3,
          "solution": false
        },
        "colab": {
          "base_uri": "https://localhost:8080/"
        },
        "id": "FIUOm14HoLYo",
        "outputId": "6ff38e1c-a5d1-4b19-95b3-5f43d1e7fecd"
      },
      "source": [
        "cubics(10)"
      ],
      "execution_count": 204,
      "outputs": [
        {
          "output_type": "execute_result",
          "data": {
            "text/plain": [
              "[1, 8, 27, 64, 125, 216, 343, 512, 729, 1000]"
            ]
          },
          "metadata": {
            "tags": []
          },
          "execution_count": 204
        }
      ]
    },
    {
      "cell_type": "code",
      "metadata": {
        "deletable": false,
        "editable": false,
        "nbgrader": {
          "cell_type": "code",
          "checksum": "5c3d5a580d8e85c6adb7d9cf3af851b6",
          "grade": true,
          "grade_id": "correct_cubics",
          "locked": false,
          "points": 0.75,
          "schema_version": 3,
          "solution": false
        },
        "id": "E6y63U7YoLYo"
      },
      "source": [
        "\"\"\"Check that cubics returns the correct output for several inputs\"\"\"\n",
        "assert cubics(1) == [1]\n",
        "assert cubics(2) == [1, 8]\n",
        "assert cubics(10) == [1, 8, 27, 64, 125, 216, 343, 512, 729, 1000]\n",
        "assert cubics(11) == [1, 8, 27, 64, 125, 216, 343, 512, 729, 1000, 1331]"
      ],
      "execution_count": 205,
      "outputs": []
    },
    {
      "cell_type": "code",
      "metadata": {
        "deletable": false,
        "editable": false,
        "nbgrader": {
          "cell_type": "code",
          "checksum": "5723b80d3511d809fb0a13865a5b5d30",
          "grade": true,
          "grade_id": "cubics_invalid_input",
          "locked": false,
          "points": 0.25,
          "schema_version": 3,
          "solution": false
        },
        "id": "AvdDQXgeoLYp"
      },
      "source": [
        "\"\"\"Check that cubics raises an error for invalid inputs\"\"\"\n",
        "try:\n",
        "    cubics(0)\n",
        "except ValueError:\n",
        "    pass\n",
        "else:\n",
        "    raise AssertionError(\"did not raise\")\n",
        "\n",
        "try:\n",
        "    cubics(-4)\n",
        "except ValueError:\n",
        "    pass\n",
        "else:\n",
        "    raise AssertionError(\"did not raise\")"
      ],
      "execution_count": 206,
      "outputs": []
    },
    {
      "cell_type": "markdown",
      "metadata": {
        "deletable": false,
        "editable": false,
        "nbgrader": {
          "cell_type": "markdown",
          "checksum": "650e88a313f33dfe89c3018d028383ad",
          "grade": false,
          "grade_id": "cell-4c6accaf71092949",
          "locked": true,
          "schema_version": 3,
          "solution": false
        },
        "id": "5Ql_RbHDoLYq"
      },
      "source": [
        "## Problem 3 (1 point)\n",
        "\n",
        "Using your `cubics` function, write a function that computes the sum of the cubics of the numbers from 1 to $n$. Your function should call the `cubics` function -- it should NOT reimplement its functionality."
      ]
    },
    {
      "cell_type": "code",
      "metadata": {
        "deletable": false,
        "nbgrader": {
          "cell_type": "code",
          "checksum": "d09477434de240c01b17a5d7d8fb26df",
          "grade": false,
          "grade_id": "sum_of_cubics",
          "locked": false,
          "schema_version": 3,
          "solution": true
        },
        "id": "9jH9-79joLYr"
      },
      "source": [
        "def sum_of_cubics(n):\n",
        "    \"\"\"Compute the sum of the cubics of numbers from 1 to n.\"\"\"\n",
        "    # YOUR CODE HERE\n",
        "    cube_list=cubics(n)\n",
        "    sum=0\n",
        "    for i in range(len(cube_list)):\n",
        "      sum+=cube_list[i]\n",
        "    return sum\n",
        "    raise NotImplementedError()"
      ],
      "execution_count": 213,
      "outputs": []
    },
    {
      "cell_type": "code",
      "metadata": {
        "colab": {
          "base_uri": "https://localhost:8080/"
        },
        "id": "rcajN0HdKr2i",
        "outputId": "c81a512c-6bcf-4ec5-f44b-166acb285d90"
      },
      "source": [
        "sum_of_cubics(5)"
      ],
      "execution_count": 214,
      "outputs": [
        {
          "output_type": "execute_result",
          "data": {
            "text/plain": [
              "225"
            ]
          },
          "metadata": {
            "tags": []
          },
          "execution_count": 214
        }
      ]
    },
    {
      "cell_type": "code",
      "metadata": {
        "deletable": false,
        "editable": false,
        "nbgrader": {
          "cell_type": "code",
          "checksum": "22dd447df920ab2e0b680fa3c8603b88",
          "grade": true,
          "grade_id": "correct_sum_of_cubics",
          "locked": false,
          "points": 0.5,
          "schema_version": 3,
          "solution": false
        },
        "id": "JB1gNHZAoLYs"
      },
      "source": [
        "\"\"\"Check that sum_of_cubics returns the correct answer for various inputs.\"\"\"\n",
        "assert sum_of_cubics(1) == 1\n",
        "assert sum_of_cubics(2) == 9\n",
        "assert sum_of_cubics(10) == 3025\n",
        "assert sum_of_cubics(11) == 4356"
      ],
      "execution_count": 215,
      "outputs": []
    },
    {
      "cell_type": "code",
      "metadata": {
        "deletable": false,
        "editable": false,
        "nbgrader": {
          "cell_type": "code",
          "checksum": "30d01b5a2f4050ab83242dc36a87176e",
          "grade": true,
          "grade_id": "sum_of_cubics_uses_cubics",
          "locked": false,
          "points": 0.5,
          "schema_version": 3,
          "solution": false
        },
        "id": "Qo-Yc2FEoLYs"
      },
      "source": [
        "\"\"\"Check that sum_of_cubics relies on cubics.\"\"\"\n",
        "orig_cubics = cubics\n",
        "del cubics\n",
        "try:\n",
        "    sum_of_cubics(1)\n",
        "except NameError:\n",
        "    pass\n",
        "else:\n",
        "    raise AssertionError(\"sum_of_cubics does not use cubics\")\n",
        "finally:\n",
        "    cubics = orig_cubics"
      ],
      "execution_count": 216,
      "outputs": []
    },
    {
      "cell_type": "markdown",
      "metadata": {
        "deletable": false,
        "editable": false,
        "nbgrader": {
          "cell_type": "markdown",
          "checksum": "73240270c37722fbe7b4e6a34063b598",
          "grade": false,
          "grade_id": "cell-b7d6b8583ec5a971",
          "locked": true,
          "schema_version": 3,
          "solution": false,
          "task": false
        },
        "id": "gAh10NK9oLYt"
      },
      "source": [
        "## Problem 4 (1 point)\n",
        "\n",
        "Write a function that returns a list of numbers, that form a Collatz conjecture sequence. Make sure the input is an int and it handles the case where $n<=0$ by raising a `ValueError`.\n",
        "https://en.wikipedia.org/wiki/Collatz_conjecture"
      ]
    },
    {
      "cell_type": "code",
      "metadata": {
        "deletable": false,
        "nbgrader": {
          "cell_type": "code",
          "checksum": "d56174b22e7ee51287a9eb8413b02a0f",
          "grade": false,
          "grade_id": "Collatz",
          "locked": false,
          "schema_version": 3,
          "solution": true,
          "task": false
        },
        "id": "rwo34mOhoLYt"
      },
      "source": [
        "def Collatz(n):\n",
        "    \"\"\"For input n (must be a positive integer), compute a list of numbers in reverse order, that form a Collatz conjecture sequence.\n",
        "  \n",
        "    \"\"\"\n",
        "    # YOUR CODE HERE\n",
        "    collat=[n]\n",
        "    if not type(n)==int or n <= 0:\n",
        "        raise ValueError('Invalid Number')\n",
        "    while n > 1:\n",
        "        if n % 2 == 0:\n",
        "            n = n//2\n",
        "        else:\n",
        "            n = (3*n)+1\n",
        "        collat += [n]\n",
        "    return collat\n",
        "    raise NotImplementedError()"
      ],
      "execution_count": 262,
      "outputs": []
    },
    {
      "cell_type": "code",
      "metadata": {
        "id": "1pedIhPHRXhp"
      },
      "source": [
        ""
      ],
      "execution_count": null,
      "outputs": []
    },
    {
      "cell_type": "code",
      "metadata": {
        "deletable": false,
        "editable": false,
        "nbgrader": {
          "cell_type": "code",
          "checksum": "f5e77b6cab612c0c06a32dd00436177d",
          "grade": true,
          "grade_id": "Correct_Collatz",
          "locked": true,
          "points": 0.5,
          "schema_version": 3,
          "solution": false,
          "task": false
        },
        "id": "P19MKua7oLYt"
      },
      "source": [
        "\"\"\"Check that cubics returns the correct output for several inputs\"\"\"\n",
        "assert Collatz(1) == [1]\n",
        "assert Collatz(2) == [2, 1]\n",
        "assert Collatz(10) == [10, 5, 16, 8, 4, 2, 1]\n",
        "assert Collatz(11) == [11, 34, 17, 52, 26, 13, 40, 20, 10, 5, 16, 8, 4, 2, 1]"
      ],
      "execution_count": 257,
      "outputs": []
    },
    {
      "cell_type": "code",
      "metadata": {
        "deletable": false,
        "editable": false,
        "nbgrader": {
          "cell_type": "code",
          "checksum": "156b530e5770f51a56763b7c98f7bb26",
          "grade": true,
          "grade_id": "Collatz_invalid_input",
          "locked": true,
          "points": 0.5,
          "schema_version": 3,
          "solution": false,
          "task": false
        },
        "id": "cAqBHri1oLYu"
      },
      "source": [
        "\"\"\"Check that cubics raises an error for invalid inputs\"\"\"\n",
        "try:\n",
        "    Collatz(0)\n",
        "except ValueError:\n",
        "    pass\n",
        "else:\n",
        "    raise AssertionError(\"did not raise\")\n",
        "\n",
        "try:\n",
        "    Collatz(-4)\n",
        "except ValueError:\n",
        "    pass\n",
        "else:\n",
        "    raise AssertionError(\"did not raise\")\n",
        "    \n",
        "try:\n",
        "    Collatz(10.0)\n",
        "except ValueError:\n",
        "    pass\n",
        "else:\n",
        "    raise AssertionError(\"did not raise\")"
      ],
      "execution_count": 263,
      "outputs": []
    }
  ]
}